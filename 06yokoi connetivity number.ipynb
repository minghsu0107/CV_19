{
 "cells": [
  {
   "cell_type": "code",
   "execution_count": 53,
   "metadata": {},
   "outputs": [],
   "source": [
    "import cv2\n",
    "import numpy as np\n"
   ]
  },
  {
   "cell_type": "code",
   "execution_count": 54,
   "metadata": {},
   "outputs": [
    {
     "name": "stdout",
     "output_type": "stream",
     "text": [
      "64 64\n"
     ]
    }
   ],
   "source": [
    "#read origin img \n",
    "image = cv2.imread('lena.bmp',0)\n",
    "rows,cols = image.shape\n",
    "img = np.asarray(image)\n",
    "print(rows//8,cols//8)"
   ]
  },
  {
   "cell_type": "markdown",
   "metadata": {},
   "source": [
    "### Down sampling"
   ]
  },
  {
   "cell_type": "code",
   "execution_count": 55,
   "metadata": {},
   "outputs": [
    {
     "data": {
      "text/plain": [
       "True"
      ]
     },
     "execution_count": 55,
     "metadata": {},
     "output_type": "execute_result"
    }
   ],
   "source": [
    "d_row = rows//8\n",
    "d_col = cols//8 \n",
    "down_sample = np.full((d_row,d_col),0)\n",
    "for i in range (d_row):\n",
    "    for j in range (d_col):\n",
    "        down_sample[i][j] = img[8*i][8*j]\n",
    "        if down_sample[i][j] < 128:\n",
    "            down_sample[i][j] = 0\n",
    "        else :\n",
    "            down_sample[i][j] = 255\n",
    "\n",
    "cv2.imwrite(\"down_sample.bmp\",down_sample)"
   ]
  },
  {
   "cell_type": "code",
   "execution_count": 56,
   "metadata": {},
   "outputs": [],
   "source": [
    "def get_val(i,j,a):\n",
    "    if a == 1:\n",
    "        if j+1 >= d_col:\n",
    "            return 0\n",
    "        else:\n",
    "            return down_sample[i][j+1]\n",
    "    elif a == 2:\n",
    "        if i-1 < 0:\n",
    "            return 0\n",
    "        else: \n",
    "            return down_sample[i-1][j]\n",
    "    elif a == 3:\n",
    "        if j-1 < 0:\n",
    "            return 0\n",
    "        else:\n",
    "            return down_sample[i][j-1]\n",
    "    elif a == 4:\n",
    "        if i+1 >= d_row:\n",
    "            return 0\n",
    "        else:\n",
    "            return down_sample[i+1][j]\n",
    "    elif a == 5:\n",
    "        if i+1 >= d_row or j+1 >= d_col:\n",
    "            return 0\n",
    "        else:\n",
    "            return down_sample[i+1][j+1]\n",
    "    elif a == 6:\n",
    "        if i-1 < 0 or j+1 >= d_col:\n",
    "            return 0\n",
    "        else:\n",
    "            return down_sample[i-1][j+1]\n",
    "    elif a == 7:\n",
    "        if i-1 < 0 or j-1 < 0:\n",
    "            return 0\n",
    "        else:\n",
    "            return down_sample[i-1][j-1]\n",
    "    elif a == 8:\n",
    "        if i+1 >= d_row or j-1 < 0:\n",
    "            return 0\n",
    "        else:\n",
    "            return down_sample[i+1][j-1]\n",
    "        \n",
    "def h(i,j,p1,p2,p3):\n",
    "    v0 = down_sample[i][j]\n",
    "    v1 = get_val(i,j,p1)\n",
    "    v2 = get_val(i,j,p2)\n",
    "    v3 = get_val(i,j,p3)\n",
    "    #return q = 0 / r = 1 / s = 2\n",
    "    \n",
    "    if v0 != v1:\n",
    "        return 2\n",
    "    elif v0 == v2 and v0 == v3:\n",
    "        return 1\n",
    "    else:\n",
    "        return 0\n",
    "        \n",
    "def f(a,b,c,d):\n",
    "    if a==b and b==c and c==d and d == 1:\n",
    "        return 5\n",
    "    cnt = 0\n",
    "    if a == 0:\n",
    "        cnt+=1\n",
    "    if b == 0:\n",
    "        cnt+=1\n",
    "    if c == 0:\n",
    "        cnt+=1\n",
    "    if d == 0:\n",
    "        cnt+=1\n",
    "    return cnt\n"
   ]
  },
  {
   "cell_type": "code",
   "execution_count": 57,
   "metadata": {},
   "outputs": [
    {
     "name": "stdout",
     "output_type": "stream",
     "text": [
      " 1 1 1 1 1 1 1 1                 1 2 1 1 1 1 1 1 1 1 1 1 2 2 3 2 2 2 2 1           1 1 1 1 1 1 1 1 1 1 1 1                      \n",
      " 1 5 5 5 5 5 5 1                   1 1 5 5 5 5 5 5 5 5 1 1   2   1 1     1 1       1 1 5 5 5 5 5 5 5 5 5 1 1                    \n",
      " 1 5 5 5 5 5 5 1                 1   2 1 1 5 5 5 5 1 1 2     2 1 1 1 2 2 2 1         1 5 5 5 5 5 5 5 5 5 5 1             2 1    \n",
      " 1 5 5 5 5 5 5 1                 1   2   1 5 5 1 1 2   2 2 2 2 1 5 1 1               1 5 5 5 5 5 5 5 5 5 5 1 1           1      \n",
      " 1 5 5 5 5 5 5 1                   2 2   2 1 1 2   2 2         1 2 1                 1 5 5 5 5 5 5 5 5 5 5 5 1 1                \n",
      " 1 5 5 5 5 5 5 1                   1     2     2 1   2           1       1           1 5 5 5 5 5 5 5 5 5 5 5 5 1                \n",
      " 1 5 5 5 5 5 5 1                       1 2   1     1 2 1 1 1 1         1 3 2 1       1 5 5 5 5 5 5 5 5 5 5 5 5 1 1              \n",
      " 1 5 1 1 1 5 5 1                       1 3 2 2   1 1 5 5 5 5 1 1 1 1                 1 5 5 5 5 5 5 5 5 5 5 5 5 5 1              \n",
      " 1 1 1   1 5 5 1                         1     1 2 1 5 5 5 5 5 5 5 1 1               1 5 5 5 5 5 5 5 5 5 5 5 5 1 1              \n",
      " 1 1     1 5 5 1                                   2 1 1 5 5 5 5 5 5 1 1             1 5 5 1 1 1 5 5 5 5 5 5 1 1                \n",
      " 2 1     1 5 5 1                                   2   1 5 5 5 5 5 5 5 1 1 1         1 5 5 1   1 1 5 5 5 5 1 1                  \n",
      " 1       1 5 5 1                                   2   1 5 5 5 5 5 5 5 5 5 1 1       1 5 5 1     1 1 5 5 5 1                   1\n",
      "         1 5 5 1                               1 1 2 1 1 5 5 5 5 5 5 5 5 5 5 1       1 5 5 1       1 5 5 1 1                 1 2\n",
      "         1 5 5 1                               1 5 5 5 5 5 5 5 5 5 5 5 5 5 5 1 1     1 5 5 1       1 1 1 1                 1 1 1\n",
      "         1 5 5 1                 1           2 2 2 1 1 5 5 5 5 5 5 5 5 5 5 5 5 1 1   1 1 5 1         1 1                 1 1 5 1\n",
      "         1 5 5 1                 2         2 2   1   1 5 5 5 5 5 5 5 5 5 5 5 5 5 1 1   1 5 1     1 1 1 1 1               1 5 5 1\n",
      "         1 5 5 1                 2         1       1 1 5 5 5 5 5 5 5 5 5 5 5 5 5 5 1   1 5 1   1 1 5 5 5 1             1 1 5 5 1\n",
      "         1 5 5 1                 2               1 1 5 5 5 5 5 5 5 5 5 5 5 5 5 5 5 1 1 1 5 1 1 1 5 5 5 1 1           1 1 5 5 5 1\n",
      "         1 5 5 1               1 2             1 1 5 5 5 5 5 5 5 5 5 5 5 5 5 5 5 5 5 5 5 5 5 5 5 5 5 5 1             1 5 5 5 5 1\n",
      "         1 5 5 1               1 1           2 2 1 5 5 5 5 5 5 5 5 5 5 5 5 5 5 5 5 5 5 5 5 5 5 5 5 1 1 2           1 1 5 5 5 5 1\n",
      "         1 5 5 1               1 1 1       2 2   1 5 5 5 5 5 5 5 5 5 5 5 5 5 5 5 5 5 5 5 5 5 5 5 5 1   1           1 5 5 5 5 5 1\n",
      "         1 5 5 1               1 5 1 1     1   1 2 5 1 1 2 1 1 1 1 1 2 1 1 1 5 5 5 5 5 5 5 5 5 1 1 1             1 1 5 5 5 5 5 1\n",
      "         1 5 5 1               1 5 5 2 1     1   1 2 1   1   1 1     1     1 5 5 5 5 5 5 5 1 1 1                 1 5 5 5 5 5 5 1\n",
      "         1 5 5 1               1 1 5 1     1 3 2   2                     1 1 5 5 5 5 5 1 1 1                   1 1 5 5 5 5 5 5 1\n",
      "         1 5 5 1                 1 5 1         3 2 2                   1 1 5 5 5 5 1 1 1     1 2 1             1 5 5 5 5 5 5 5 1\n",
      "         1 5 5 1                 1 2 2 1       2                       1 5 5 5 5 5 1       1 3 1             1 1 5 5 5 5 5 5 5 1\n",
      "         1 5 5 1                   2           1                     1 1 5 5 5 5 5 1 1       1               1 1 5 5 5 5 5 5 5 1\n",
      "         1 5 5 1                   2                               1 1 5 5 5 5 5 5 5 1                     1   1 5 5 5 5 5 5 5 1\n",
      "         1 5 5 1                   2                             1 1 5 5 5 5 5 5 5 5 1                     2 1 1 5 5 5 5 5 5 5 1\n",
      "         1 5 5 1                   1                           1 1 5 5 5 5 5 5 5 5 5 1                     1 5 5 5 5 5 5 5 5 5 1\n",
      "         1 5 5 1                     1                       1 1 5 1 1 1 1 5 5 5 5 5 2 1     1           1 1 5 5 5 5 5 5 5 5 5 1\n",
      "         1 5 5 1                 1   1                     1 1 1 1 1     1 1 5 5 5 1 1       2           1 5 5 5 5 5 5 5 5 5 5 1\n",
      "         1 5 5 1               1 3 1                       1 1 1           1 5 1 1 1         2           1 5 5 5 5 5 5 5 5 5 5 1\n",
      "         1 5 5 1             1 2 1                     1 1 2 1       1     1 1 1     1       2         1 1 5 5 5 5 5 5 5 5 5 5 1\n",
      "         1 5 5 1             1 1                       1 1 1   1     2 2 1   1 1     1       2         1 5 5 5 5 5 5 5 5 5 5 5 1\n",
      "         1 5 5 1         1 2               1           2 1   1 2 1     1 1   1 1 1 1         2         1 5 5 5 5 5 5 5 5 5 5 5 1\n",
      "         1 5 5 1           1             1 2         2 2     1 5 1 1 1 1 1 1 1 5 5 1         2       1 1 5 5 5 5 5 5 5 5 5 5 5 1\n",
      "         1 5 5 1       1                             2       1 5 5 5 5 5 1 1 1 5 5 1 1       1       1 5 5 5 5 5 5 5 5 5 5 5 5 1\n",
      "         1 5 5 1       2                           2 2     1 2 5 5 5 5 5 1   1 5 5 5 1         1     1 5 5 5 5 5 5 5 5 5 5 5 5 1\n",
      "         1 5 5 1       1                           1         1 5 5 5 5 1 1   1 1 5 1 1         2   1 1 5 5 5 5 5 5 5 5 5 5 5 5 1\n",
      "         1 5 5 1                               2 1           1 5 5 5 5 1   1   1 5 1           2   1 5 5 5 5 5 5 5 5 5 5 5 5 5 1\n",
      "         1 5 5 1                               2             1 5 5 5 5 1 1 2   1 5 1           2   1 5 5 5 5 5 5 5 5 5 5 5 5 5 1\n",
      "         1 5 5 1                   1       1   1           1 1 5 5 5 5 5 5 1 1 1 1 1           2   1 5 5 5 5 5 5 5 5 5 5 5 5 5 1\n",
      "         1 5 5 1                   2     2 2               1 1 1 5 1 1 1 1 1 2 1 2             2 1 1 5 5 5 5 5 5 5 5 5 5 5 5 5 1\n",
      "         1 5 5 1                   1   1 2                     1 5 1         2   1             1 5 5 5 5 5 5 5 1 1 1 5 5 5 5 5 1\n",
      "         1 5 5 1                                               1 1 1 1     1 2 1               1 5 5 5 5 5 5 5 1   1 5 5 5 5 5 1\n",
      "         1 5 5 1                                                 1 1 1 1 1 1 1 1               1 5 5 5 5 5 5 5 1   1 5 5 5 5 5 1\n",
      "         1 5 5 1                                                   1 1 5 5 5 1                 1 5 5 5 5 5 5 5 1   1 5 5 5 5 1 1\n",
      "         1 5 5 1                                                     1 5 5 5 1                 2 1 1 1 1 1 1 1 1   1 5 5 5 1 1  \n",
      "         1 1 5 2 1             1       1 2                     1 2 2 1 5 5 5 1 1               2           1 1   1 1 5 5 1 1    \n",
      " 1         1 5 1               1         1                         1 5 5 5 5 5 1 1 1           2 1 1 1           1 5 5 1 1      \n",
      " 2 2       1 5 1 1                     1                           1 5 5 5 5 5 5 5 1 1 1       1 5 5 1 1 1       1 5 1 1        \n",
      "   2 2     1 5 1 1                     1                           1 5 5 5 5 5 5 5 5 5 1       1 5 5 5 5 1     1 1 5 1          \n",
      "     2     1 5 1                             1                 1 1 1 5 5 5 5 5 5 5 5 5 1 1     1 5 5 5 1 1     1 5 1 1          \n",
      "     2     1 5 2 1                           1                 1 5 5 5 5 5 5 5 5 5 5 5 5 1 1   1 5 5 5 1   1 2 1 5 1            \n",
      "     2     1 5 1                       1 2 1                   1 5 5 5 5 5 5 5 5 5 5 5 5 5 1   1 5 5 5 1 1   1 5 5 1            \n",
      "     2     1 5 1 1                                             1 5 5 5 5 5 5 5 5 5 5 5 5 5 1   1 1 5 5 5 1   1 5 1 1            \n",
      "     2 1   1 5 1 1                         1 1                 1 5 5 5 5 5 5 5 5 5 5 5 5 5 1     1 1 1 1 1 1 1 5 1              \n",
      "     1 1   1 5 1                                             1 1 5 5 5 5 5 5 5 5 5 5 5 5 5 1 1         1 1 1 5 1 1              \n",
      "     1 1   1 5 1                                             1 5 5 5 5 5 5 5 5 5 5 5 5 5 5 5 1             1 5 1                \n",
      "     1 1   1 5 1                                           1 1 5 5 5 5 5 5 5 5 5 5 5 5 5 5 5 1             2 1 1                \n",
      "     1 1   1 5 1                                           1 1 5 5 5 5 5 5 5 5 5 5 5 5 5 5 5 1 1           1                    \n",
      "     1 1   1 5 1                                             1 5 5 5 5 5 5 5 5 5 5 5 5 5 5 5 5 1                                \n",
      "     1 1   1 1 1                                           1 2 1 1 1 1 1 1 1 1 1 1 1 1 1 1 1 1 1                                \n"
     ]
    }
   ],
   "source": [
    "yokoi = np.full((d_row,d_col),0)\n",
    "for i in range (d_row):\n",
    "    for j in range (d_col):\n",
    "        #if i==0 or i == d_row-1 or j == 0 or j == d_col-1:\n",
    "        #    continue\n",
    "        if down_sample[i][j] == 0:\n",
    "            print(\"  \",end='')\n",
    "            continue\n",
    "        yokoi[i][j] = f(h(i,j,1,6,2),h(i,j,2,7,3),h(i,j,3,8,4),h(i,j,4,5,1))\n",
    "        if yokoi[i][j] == 0:\n",
    "            print(\"  \",end='')\n",
    "        else:\n",
    "            print(\"{:2d}\".format(yokoi[i][j]),end='')\n",
    "    print(\"\")"
   ]
  },
  {
   "cell_type": "code",
   "execution_count": null,
   "metadata": {},
   "outputs": [],
   "source": []
  }
 ],
 "metadata": {
  "kernelspec": {
   "display_name": "Python 3",
   "language": "python",
   "name": "python3"
  },
  "language_info": {
   "codemirror_mode": {
    "name": "ipython",
    "version": 3
   },
   "file_extension": ".py",
   "mimetype": "text/x-python",
   "name": "python",
   "nbconvert_exporter": "python",
   "pygments_lexer": "ipython3",
   "version": "3.6.8"
  }
 },
 "nbformat": 4,
 "nbformat_minor": 2
}
