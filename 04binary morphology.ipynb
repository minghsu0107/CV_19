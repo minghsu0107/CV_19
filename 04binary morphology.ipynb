{
 "cells": [
  {
   "cell_type": "code",
   "execution_count": 1,
   "metadata": {},
   "outputs": [],
   "source": [
    "import cv2\n",
    "import numpy as np\n",
    "import matplotlib.pyplot as plt\n",
    "from PIL import Image"
   ]
  },
  {
   "cell_type": "code",
   "execution_count": 2,
   "metadata": {},
   "outputs": [],
   "source": [
    "#read origin img and change it to binary\n",
    "image = cv2.imread('lena.bmp',0)\n",
    "rows,cols = image.shape\n",
    "threshold,bin_img = cv2.threshold(image,127,255,cv2.THRESH_BINARY)\n",
    "cv2.imwrite(\"binary.bmp\",bin_img)\n",
    "bin_array = np.asarray(bin_img)"
   ]
  },
  {
   "cell_type": "code",
   "execution_count": 3,
   "metadata": {},
   "outputs": [],
   "source": [
    "#initialize kernel\n",
    "kernel = np.array([[0, 1, 1, 1, 0],\n",
    "                   [1, 1, 1, 1, 1],\n",
    "                   [1, 1, 1, 1, 1],\n",
    "                   [1, 1, 1, 1, 1],\n",
    "                   [0, 1, 1, 1, 0]])"
   ]
  },
  {
   "cell_type": "markdown",
   "metadata": {},
   "source": [
    "### Dilation"
   ]
  },
  {
   "cell_type": "code",
   "execution_count": 60,
   "metadata": {},
   "outputs": [
    {
     "data": {
      "text/plain": [
       "True"
      ]
     },
     "execution_count": 60,
     "metadata": {},
     "output_type": "execute_result"
    }
   ],
   "source": [
    "def color(pic,r,c,i,j,k,k_r, k_c,s_r,s_c):\n",
    "    r,c = pic.shape \n",
    "    for a in range(k_r):\n",
    "        for b in range(k_c):\n",
    "            if k[a][b] == 1:\n",
    "                if i+a-s_r < 0 or j+b-s_c < 0 or i+a-s_r > r-1 or j+b-s_c > c-1:\n",
    "                    continue\n",
    "                pic[i+a-s_r][j+b-s_r] = 255\n",
    "            \n",
    "def Dilation(pic,out,k):\n",
    "    r,c = pic.shape\n",
    "    k_r, k_c = k.shape\n",
    "    s_r = k_r//2\n",
    "    s_c = k_c//2\n",
    "    for i in range(r):\n",
    "        for j in range(c):\n",
    "            if pic[i][j] == 255:\n",
    "                color(out,r,c,i,j,k,k_r,k_c,s_r,s_c)\n",
    "\n",
    "dilation = np.full((rows,cols),0)        \n",
    "Dilation(bin_array,dilation,kernel)\n",
    "cv2.imwrite(\"dilation.bmp\",dilation)"
   ]
  },
  {
   "cell_type": "markdown",
   "metadata": {},
   "source": [
    "### Erosion"
   ]
  },
  {
   "cell_type": "code",
   "execution_count": 66,
   "metadata": {},
   "outputs": [
    {
     "data": {
      "text/plain": [
       "True"
      ]
     },
     "execution_count": 66,
     "metadata": {},
     "output_type": "execute_result"
    }
   ],
   "source": [
    "def check(pic,r,c,i,j,k,k_r,k_c,s_r,s_c):\n",
    "    for a in range(k_c):\n",
    "        for b in range(k_r):\n",
    "            if k[a][b] == 1 :\n",
    "                if i+a-s_r < 0 or j+b-s_c < 0 or i+a-s_r > r-1 or j+b-s_c > c-1:\n",
    "                    continue\n",
    "                if pic[i+a-s_r][j+b-s_r] != 255:\n",
    "                    return -1\n",
    "    return 1\n",
    "\n",
    "\n",
    "def Erosion(pic,out,k): \n",
    "    r,c = pic.shape\n",
    "    k_r, k_c = k.shape\n",
    "    s_r = k_r//2\n",
    "    s_c = k_c//2\n",
    "    for i in range(r):\n",
    "        for j in range(c):\n",
    "            if check(pic,r,c,i,j,k,k_r, k_c,s_r,s_c) == 1:\n",
    "                out[i][j] = 255            \n",
    "\n",
    "erosion = np.full((rows,cols),0)\n",
    "Erosion(bin_array,erosion,kernel)\n",
    "cv2.imwrite(\"erosioin.bmp\",erosion)"
   ]
  },
  {
   "cell_type": "markdown",
   "metadata": {},
   "source": [
    "### Opening"
   ]
  },
  {
   "cell_type": "code",
   "execution_count": 67,
   "metadata": {},
   "outputs": [
    {
     "data": {
      "text/plain": [
       "True"
      ]
     },
     "execution_count": 67,
     "metadata": {},
     "output_type": "execute_result"
    }
   ],
   "source": [
    "# Erosion first and then Dilation \n",
    "opening = np.full((rows,cols),0)\n",
    "Dilation(erosion,opening,kernel)\n",
    "cv2.imwrite(\"open.bmp\",opening)"
   ]
  },
  {
   "cell_type": "markdown",
   "metadata": {},
   "source": [
    "### Closing"
   ]
  },
  {
   "cell_type": "code",
   "execution_count": 68,
   "metadata": {},
   "outputs": [
    {
     "data": {
      "text/plain": [
       "True"
      ]
     },
     "execution_count": 68,
     "metadata": {},
     "output_type": "execute_result"
    }
   ],
   "source": [
    "# Dilation first and then Erosion \n",
    "closing = np.full((rows,cols),0)\n",
    "Erosion(dilation,closing,kernel)\n",
    "cv2.imwrite(\"close.bmp\",closing)"
   ]
  },
  {
   "cell_type": "markdown",
   "metadata": {},
   "source": [
    "### Hit-and-miss transform"
   ]
  },
  {
   "cell_type": "code",
   "execution_count": 69,
   "metadata": {},
   "outputs": [
    {
     "data": {
      "text/plain": [
       "True"
      ]
     },
     "execution_count": 69,
     "metadata": {},
     "output_type": "execute_result"
    }
   ],
   "source": [
    "J = np.array([[0, 0, 0],\n",
    "              [1, 1, 0],\n",
    "              [0, 1, 0]])\n",
    "\n",
    "K = np.array([[0, 1, 1],\n",
    "              [0, 0, 1],\n",
    "              [0, 0, 0]])\n",
    "\n",
    "E_1 = np.full((rows,cols),0)\n",
    "E_2 = np.full((rows,cols),0)\n",
    "Hit = np.full((rows,cols),0)\n",
    "\n",
    "bin_c = 255-bin_array\n",
    "Erosion(bin_array,E_1,J)\n",
    "Erosion(bin_c,E_2,K)\n",
    "cv2.imwrite(\"E_1.bmp\",E_1)\n",
    "cv2.imwrite(\"E_2.bmp\",E_2)\n",
    "\n",
    "for i in range(rows):\n",
    "    for j in range(cols):\n",
    "        if E_1[i][j] == 255 and E_2[i][j] == 255:\n",
    "            Hit[i][j] = 255\n",
    "            \n",
    "cv2.imwrite(\"hit.bmp\",Hit)        "
   ]
  },
  {
   "cell_type": "code",
   "execution_count": null,
   "metadata": {},
   "outputs": [],
   "source": []
  }
 ],
 "metadata": {
  "kernelspec": {
   "display_name": "Python 3",
   "language": "python",
   "name": "python3"
  },
  "language_info": {
   "codemirror_mode": {
    "name": "ipython",
    "version": 3
   },
   "file_extension": ".py",
   "mimetype": "text/x-python",
   "name": "python",
   "nbconvert_exporter": "python",
   "pygments_lexer": "ipython3",
   "version": "3.6.6"
  }
 },
 "nbformat": 4,
 "nbformat_minor": 2
}
