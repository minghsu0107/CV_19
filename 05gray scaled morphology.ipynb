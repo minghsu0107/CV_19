{
 "cells": [
  {
   "cell_type": "code",
   "execution_count": 1,
   "metadata": {},
   "outputs": [],
   "source": [
    "import cv2\n",
    "import numpy as np\n",
    "import matplotlib.pyplot as plt\n",
    "from PIL import Image"
   ]
  },
  {
   "cell_type": "code",
   "execution_count": 2,
   "metadata": {},
   "outputs": [],
   "source": [
    "#read origin img \n",
    "image = cv2.imread('lena.bmp',0)\n",
    "rows,cols = image.shape\n",
    "img = np.asarray(image)"
   ]
  },
  {
   "cell_type": "code",
   "execution_count": 3,
   "metadata": {},
   "outputs": [],
   "source": [
    "#initialize kernel\n",
    "kernel = np.array([[0, 1, 1, 1, 0],\n",
    "                   [1, 1, 1, 1, 1],\n",
    "                   [1, 1, 1, 1, 1],\n",
    "                   [1, 1, 1, 1, 1],\n",
    "                   [0, 1, 1, 1, 0]])"
   ]
  },
  {
   "cell_type": "markdown",
   "metadata": {},
   "source": [
    "### Dilation"
   ]
  },
  {
   "cell_type": "code",
   "execution_count": 4,
   "metadata": {},
   "outputs": [
    {
     "data": {
      "text/plain": [
       "True"
      ]
     },
     "execution_count": 4,
     "metadata": {},
     "output_type": "execute_result"
    }
   ],
   "source": [
    "def color(pic,out,r,c,i,j,k,k_r,k_c,s_r,s_c):\n",
    "    val = 0\n",
    "    for a in range(k_r):\n",
    "        for b in range(k_c):\n",
    "            if k[a][b] == 1:\n",
    "                if i+a-s_r < 0 or j+b-s_c < 0 or i+a-s_r > r-1 or j+b-s_c > c-1:\n",
    "                    continue\n",
    "                if pic[i+a-s_r][j+b-s_r] > val:\n",
    "                    val = pic[i+a-s_r][j+b-s_r]\n",
    "    out[i][j] = val\n",
    "            \n",
    "def Dilation(pic,out,k):\n",
    "    r,c = pic.shape\n",
    "    k_r, k_c = k.shape\n",
    "    s_r = k_r//2\n",
    "    s_c = k_c//2\n",
    "    for i in range(r):\n",
    "        for j in range(c):\n",
    "            color(pic,out,r,c,i,j,k,k_r,k_c,s_r,s_c)\n",
    "\n",
    "dilation = np.full((rows,cols),0)        \n",
    "Dilation(img,dilation,kernel)\n",
    "cv2.imwrite(\"dilation.bmp\",dilation)"
   ]
  },
  {
   "cell_type": "markdown",
   "metadata": {},
   "source": [
    "### Erosion"
   ]
  },
  {
   "cell_type": "code",
   "execution_count": 5,
   "metadata": {},
   "outputs": [
    {
     "data": {
      "text/plain": [
       "True"
      ]
     },
     "execution_count": 5,
     "metadata": {},
     "output_type": "execute_result"
    }
   ],
   "source": [
    "def color2(pic,out,r,c,i,j,k,k_r,k_c,s_r,s_c):\n",
    "    val = 256\n",
    "    for a in range(k_r):\n",
    "        for b in range(k_c):\n",
    "            if k[a][b] == 1:\n",
    "                if i+a-s_r < 0 or j+b-s_c < 0 or i+a-s_r > r-1 or j+b-s_c > c-1:\n",
    "                    continue\n",
    "                if pic[i+a-s_r][j+b-s_r] < val:\n",
    "                    val = pic[i+a-s_r][j+b-s_r]\n",
    "    out[i][j] = val\n",
    "            \n",
    "def Erosion(pic,out,k):\n",
    "    r,c = pic.shape\n",
    "    k_r, k_c = k.shape\n",
    "    s_r = k_r//2\n",
    "    s_c = k_c//2\n",
    "    for i in range(r):\n",
    "        for j in range(c):\n",
    "            color2(pic,out,r,c,i,j,k,k_r,k_c,s_r,s_c)\n",
    "\n",
    "erosion = np.full((rows,cols),0)        \n",
    "Erosion(img,erosion,kernel)\n",
    "cv2.imwrite(\"erision.bmp\",erosion)"
   ]
  },
  {
   "cell_type": "markdown",
   "metadata": {},
   "source": [
    "### Opening"
   ]
  },
  {
   "cell_type": "code",
   "execution_count": 6,
   "metadata": {},
   "outputs": [
    {
     "data": {
      "text/plain": [
       "True"
      ]
     },
     "execution_count": 6,
     "metadata": {},
     "output_type": "execute_result"
    }
   ],
   "source": [
    "# Erosion first and then Dilation \n",
    "opening = np.full((rows,cols),0)\n",
    "Dilation(erosion,opening,kernel)\n",
    "cv2.imwrite(\"open.bmp\",opening)"
   ]
  },
  {
   "cell_type": "markdown",
   "metadata": {},
   "source": [
    "### Closing"
   ]
  },
  {
   "cell_type": "code",
   "execution_count": 7,
   "metadata": {},
   "outputs": [
    {
     "data": {
      "text/plain": [
       "True"
      ]
     },
     "execution_count": 7,
     "metadata": {},
     "output_type": "execute_result"
    }
   ],
   "source": [
    "# Dilation first and then Erosion \n",
    "closing = np.full((rows,cols),0)\n",
    "Erosion(dilation,closing,kernel)\n",
    "cv2.imwrite(\"close.bmp\",closing)"
   ]
  },
  {
   "cell_type": "markdown",
   "metadata": {},
   "source": []
  },
  {
   "cell_type": "code",
   "execution_count": null,
   "metadata": {},
   "outputs": [],
   "source": []
  }
 ],
 "metadata": {
  "kernelspec": {
   "display_name": "Python 3",
   "language": "python",
   "name": "python3"
  },
  "language_info": {
   "codemirror_mode": {
    "name": "ipython",
    "version": 3
   },
   "file_extension": ".py",
   "mimetype": "text/x-python",
   "name": "python",
   "nbconvert_exporter": "python",
   "pygments_lexer": "ipython3",
   "version": "3.6.6"
  }
 },
 "nbformat": 4,
 "nbformat_minor": 2
}
