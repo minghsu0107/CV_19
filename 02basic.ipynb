{
 "cells": [
  {
   "cell_type": "code",
   "execution_count": 2,
   "metadata": {},
   "outputs": [],
   "source": [
    "from PIL import Image"
   ]
  },
  {
   "cell_type": "code",
   "execution_count": 3,
   "metadata": {},
   "outputs": [],
   "source": [
    "bmp_image = Image.open( 'lena.bmp' )\n",
    "new_image = Image.new(\"L\",(bmp_image.width,bmp_image.height))"
   ]
  },
  {
   "cell_type": "markdown",
   "metadata": {},
   "source": [
    "# 1"
   ]
  },
  {
   "cell_type": "code",
   "execution_count": 4,
   "metadata": {},
   "outputs": [
    {
     "data": {
      "image/png": "[encoded data removed]",
      "text/plain": [
       "<PIL.Image.Image image mode=L size=512x512 at 0x11B9A2C8860>"
      ]
     },
     "execution_count": 4,
     "metadata": {},
     "output_type": "execute_result"
    }
   ],
   "source": [
    "for i in range(new_image.width):\n",
    "    for j in range(new_image.height):\n",
    "        pix = bmp_image.getpixel((i,j))\n",
    "        if pix < 128:\n",
    "            new_image.putpixel((i,j),0)\n",
    "        else:\n",
    "            new_image.putpixel((i,j),255)\n",
    "new_image.save(\"1.bmp\")\n",
    "new_image\n",
    "\n",
    "#for i in range(new_image.width):\n",
    "#    pix = new_image.getpixel((i,0))\n",
    "#    print(pix)"
   ]
  },
  {
   "cell_type": "markdown",
   "metadata": {},
   "source": [
    "# 2"
   ]
  },
  {
   "cell_type": "code",
   "execution_count": 5,
   "metadata": {},
   "outputs": [],
   "source": [
    "import numpy as np\n",
    "import matplotlib.pyplot as plt"
   ]
  },
  {
   "cell_type": "code",
   "execution_count": 6,
   "metadata": {},
   "outputs": [
    {
     "data": {
      "image/png": "[encoded data removed]",
      "text/plain": [
       "<Figure size 720x504 with 1 Axes>"
      ]
     },
     "metadata": {
      "needs_background": "light"
     },
     "output_type": "display_data"
    }
   ],
   "source": [
    "cnt = []\n",
    "for i in range(bmp_image.width):\n",
    "    for j in range(bmp_image.height):\n",
    "        pix = bmp_image.getpixel((i,j))\n",
    "        cnt.append(pix)\n",
    "#print(cnt)\n",
    "\n",
    "plt.figure(figsize=(10,7))\n",
    "plt.hist(cnt,range(0,255))\n",
    "plt.savefig(\"plt.jpg\")\n",
    "plt.show()\n"
   ]
  },
  {
   "cell_type": "markdown",
   "metadata": {},
   "source": [
    "# 3"
   ]
  },
  {
   "cell_type": "code",
   "execution_count": 79,
   "metadata": {},
   "outputs": [],
   "source": [
    "cur_label = 0\n",
    "label_image = np.zeros((bmp_image.width,bmp_image.height))\n",
    "pairs = {}"
   ]
  },
  {
   "cell_type": "code",
   "execution_count": 80,
   "metadata": {},
   "outputs": [],
   "source": [
    "def find_connected(i,j):\n",
    "    pix = new_image.getpixel((i,j))\n",
    "    if i-1 < 0 and j-1 < 0:\n",
    "        return -1\n",
    "    elif i-1 < 0:\n",
    "        if new_image.getpixel((i,j-1)) == pix:\n",
    "            return label_image[i][j-1]\n",
    "        else:\n",
    "            return -1\n",
    "    elif j-1 < 0:\n",
    "        if new_image.getpixel((i-1,j)) == pix:\n",
    "            #print(label_image[i-1][j])\n",
    "            return label_image[i-1][j]\n",
    "        else:\n",
    "            return -1\n",
    "    else :\n",
    "        if  new_image.getpixel((i-1,j)) != pix and new_image.getpixel((i,j-1)) != pix:\n",
    "            return -1\n",
    "        elif new_image.getpixel((i-1,j)) != pix and new_image.getpixel((i,j-1)) == pix:\n",
    "            return label_image[i][j-1]\n",
    "        elif new_image.getpixel((i-1,j)) == pix and new_image.getpixel((i,j-1)) != pix:\n",
    "            return label_image[i-1][j]\n",
    "        else:\n",
    "            maxi = max(label_image[i][j-1],label_image[i-1][j])\n",
    "            mini = min(label_image[i][j-1],label_image[i-1][j])\n",
    "            if maxi == mini:\n",
    "                return mini\n",
    "            else:\n",
    "                pairs[maxi] = mini \n",
    "                return mini\n",
    "            \n",
    "            \n",
    "def check_pix(i,j):\n",
    "    #print(i,j)\n",
    "    pix = new_image.getpixel((i,j))\n",
    "    if j+1 < 512 and i+1 < 512:\n",
    "        if new_image.getpixel((i,j+1)) != pix and new_image.getpixel((i+1,j)) == pix:\n",
    "            label_image[i][j] = label_image[i+1][j]\n",
    "        elif new_image.getpixel((i,j+1)) == pix and new_image.getpixel((i+1,j)) != pix:\n",
    "            label_image[i][j] = label_image[i][j+1]\n",
    "        elif new_image.getpixel((i,j+1)) == pix and new_image.getpixel((i+1,j)) == pix:\n",
    "            maxi = max(label_image[i+1][j],label_image[i][j+1])\n",
    "            mini = min(label_image[i+1][j],label_image[i][j+1])\n",
    "            label_image[i][j] = mini\n",
    "            #print(i,j,mini)\n",
    "            if maxi!=mini:\n",
    "                pairs[maxi] = mini \n",
    "    elif j+1 > 511 and i+1 < 512:\n",
    "        if new_image.getpixel((i+1,j)) == pix :\n",
    "            label_image[i][j] = label_image[i+1][j]\n",
    "    elif i+1 > 511 and j+1 < 512:\n",
    "        if new_image.getpixel((i,j+1)) == pix :\n",
    "            label_image[i][j] = label_image[i][j+1]\n",
    "    "
   ]
  },
  {
   "cell_type": "code",
   "execution_count": 81,
   "metadata": {},
   "outputs": [
    {
     "name": "stdout",
     "output_type": "stream",
     "text": [
      "2727\n"
     ]
    }
   ],
   "source": [
    "for j in range(new_image.height):\n",
    "    for i in range(new_image.width):\n",
    "        if new_image.getpixel((i,j)) == 255:\n",
    "            connection = find_connected(i,j)\n",
    "            if connection == -1:\n",
    "                cur_label += 1\n",
    "                label_image[i][j] = cur_label\n",
    "            else:\n",
    "                label_image[i][j] = connection  \n",
    "        #print(i,j,pix,label_image[i][j])\n",
    "    if len(pairs) > 0:\n",
    "        for i in range(new_image.width):\n",
    "            if pairs. __contains__(label_image[i][j]):\n",
    "                label_image[i][j] = pairs.get(label_image[i][j])\n",
    "    pairs.clear()\n",
    "\n",
    "for j in range(new_image.height):\n",
    "    for i in range(new_image.width):\n",
    "        if new_image.getpixel((new_image.width-i-1,new_image.height-j-1)) == 255:\n",
    "            check_pix(new_image.width-i-1,new_image.height-j-1)\n",
    "    #print(pairs)\n",
    "    if len(pairs) > 0:\n",
    "        for i in range(new_image.width):\n",
    "             if pairs. __contains__(label_image[new_image.width-i-1][new_image.height-j-1]):\n",
    "                label_image[new_image.width-i-1][new_image.height-j-1] = pairs.get(label_image[new_image.width-i-1][new_image.height-j-1])\n",
    "    pairs.clear()\n",
    "print(cur_label)\n",
    "#im = Image.fromarray(label_image,mode=\"L\")\n",
    "#im"
   ]
  },
  {
   "cell_type": "code",
   "execution_count": 97,
   "metadata": {},
   "outputs": [],
   "source": [
    "from PIL import ImageDraw\n",
    "#bound_image = Image.new(\"RGB\",(bmp_image.width,bmp_image.height))\n",
    "bound_image = new_image.convert(\"RGB\")\n",
    "\n",
    "def bound(key):\n",
    "    if key==0:\n",
    "        return\n",
    "    draw = ImageDraw.Draw(bound_image)\n",
    "    s = [511,511,0,0]\n",
    "    for j in range(new_image.height):\n",
    "        for i in range(new_image.width):\n",
    "            if label_image[i][j] == key:\n",
    "                if i < s[0]:\n",
    "                    s[0] = i\n",
    "                if i > s[2]:\n",
    "                    s[2] = i\n",
    "                if j < s[1]:\n",
    "                    s[1] = j\n",
    "                if j > s[3]:\n",
    "                    s[3] = j\n",
    "    mid_i = (s[0]+s[2])//2\n",
    "    mid_j = (s[1]+s[3])//2\n",
    "\n",
    "    draw.rectangle(s, outline='BLUE')\n",
    "    font = ImageFont.truetype('arial.ttf', 20)\n",
    "    draw.line((mid_i,mid_j-10,mid_i,mid_j+10),fill=\"RED\")\n",
    "    draw.line((mid_i-10,mid_j,mid_i+10,mid_j),fill=\"RED\")    "
   ]
  },
  {
   "cell_type": "code",
   "execution_count": 98,
   "metadata": {},
   "outputs": [
    {
     "name": "stdout",
     "output_type": "stream",
     "text": [
      "0.0 128184\n",
      "1.0 18362\n",
      "4.0 105989\n",
      "830.0 2048\n",
      "1600.0 644\n",
      "2350.0 1490\n"
     ]
    }
   ],
   "source": [
    "unique, counts = np.unique(label_image, return_counts=True)\n",
    "component_dic = dict(zip(unique, counts))\n",
    "for key,value in component_dic.items():\n",
    "    if value >= 500:\n",
    "        print(key,value)\n",
    "        bound(key)"
   ]
  },
  {
   "cell_type": "code",
   "execution_count": 99,
   "metadata": {},
   "outputs": [
    {
     "data": {
      "image/png": "[encoded data removed]",
      "text/plain": [
       "<PIL.Image.Image image mode=RGB size=512x512 at 0x195553C8828>"
      ]
     },
     "execution_count": 99,
     "metadata": {},
     "output_type": "execute_result"
    }
   ],
   "source": [
    "bound_image"
   ]
  },
  {
   "cell_type": "code",
   "execution_count": 93,
   "metadata": {},
   "outputs": [
    {
     "data": {
      "image/png": "[encoded data removed]",
      "text/plain": [
       "<PIL.Image.Image image mode=L size=512x512 at 0x19554CCB710>"
      ]
     },
     "execution_count": 93,
     "metadata": {},
     "output_type": "execute_result"
    }
   ],
   "source": [
    "test_image = Image.new(\"L\",(bmp_image.width,bmp_image.height))\n",
    "for j in range(new_image.height):\n",
    "        for i in range(new_image.width):\n",
    "            if label_image[i][j] == 2350:\n",
    "                test_image.putpixel((i,j),255)\n",
    "            #elif label_image[i][j] == 1:\n",
    "            #    test_image.putpixel((i,j),127)\n",
    "            #elif label_image[i][j] == 2350:\n",
    "            #    test_image.putpixel((i,j),50)\n",
    "            else:\n",
    "                test_image.putpixel((i,j),0)\n",
    "                \n",
    "test_image\n",
    "                "
   ]
  }
 ],
 "metadata": {
  "kernelspec": {
   "display_name": "Python 3",
   "language": "python",
   "name": "python3"
  },
  "language_info": {
   "codemirror_mode": {
    "name": "ipython",
    "version": 3
   },
   "file_extension": ".py",
   "mimetype": "text/x-python",
   "name": "python",
   "nbconvert_exporter": "python",
   "pygments_lexer": "ipython3",
   "version": "3.6.6"
  }
 },
 "nbformat": 4,
 "nbformat_minor": 2
}
