{
 "cells": [
  {
   "cell_type": "code",
   "execution_count": 117,
   "metadata": {},
   "outputs": [],
   "source": [
    "import cv2\n",
    "import numpy as np\n",
    "import matplotlib.pyplot as plt"
   ]
  },
  {
   "cell_type": "code",
   "execution_count": 118,
   "metadata": {},
   "outputs": [
    {
     "name": "stdout",
     "output_type": "stream",
     "text": [
      "64 64\n"
     ]
    }
   ],
   "source": [
    "#read origin img \n",
    "image = cv2.imread('lena.bmp',0)\n",
    "rows,cols = image.shape\n",
    "img = np.asarray(image)\n",
    "print(rows//8,cols//8)"
   ]
  },
  {
   "cell_type": "markdown",
   "metadata": {},
   "source": [
    "### Down sampling"
   ]
  },
  {
   "cell_type": "code",
   "execution_count": 119,
   "metadata": {},
   "outputs": [],
   "source": [
    "d_row = rows//8\n",
    "d_col = cols//8 \n",
    "down_sample = np.full((d_row,d_col),0)\n",
    "for i in range (d_row):\n",
    "    for j in range (d_col):\n",
    "        down_sample[i][j] = img[8*i][8*j]\n",
    "        if down_sample[i][j] < 128:\n",
    "            down_sample[i][j] = 0\n",
    "        else :\n",
    "            down_sample[i][j] = 255"
   ]
  },
  {
   "cell_type": "code",
   "execution_count": 120,
   "metadata": {},
   "outputs": [
    {
     "data": {
      "image/png": "[encoded data removed]",
      "text/plain": [
       "<Figure size 432x288 with 1 Axes>"
      ]
     },
     "metadata": {
      "needs_background": "light"
     },
     "output_type": "display_data"
    }
   ],
   "source": [
    "X = down_sample\n",
    "fig, ax = plt.subplots()\n",
    "ax.imshow(X, interpolation='nearest',cmap = 'gray')\n",
    "numrows, numcols = X.shape\n",
    "plt.show()"
   ]
  },
  {
   "cell_type": "code",
   "execution_count": 121,
   "metadata": {},
   "outputs": [],
   "source": [
    "def get_val(i,j,a):\n",
    "    if a == 1:\n",
    "        if j+1 >= d_col:\n",
    "            return 0\n",
    "        else:\n",
    "            return down_sample[i][j+1]\n",
    "    elif a == 2:\n",
    "        if i-1 < 0:\n",
    "            return 0\n",
    "        else: \n",
    "            return down_sample[i-1][j]\n",
    "    elif a == 3:\n",
    "        if j-1 < 0:\n",
    "            return 0\n",
    "        else:\n",
    "            return down_sample[i][j-1]\n",
    "    elif a == 4:\n",
    "        if i+1 >= d_row:\n",
    "            return 0\n",
    "        else:\n",
    "            return down_sample[i+1][j]\n",
    "    elif a == 5:\n",
    "        if i+1 >= d_row or j+1 >= d_col:\n",
    "            return 0\n",
    "        else:\n",
    "            return down_sample[i+1][j+1]\n",
    "    elif a == 6:\n",
    "        if i-1 < 0 or j+1 >= d_col:\n",
    "            return 0\n",
    "        else:\n",
    "            return down_sample[i-1][j+1]\n",
    "    elif a == 7:\n",
    "        if i-1 < 0 or j-1 < 0:\n",
    "            return 0\n",
    "        else:\n",
    "            return down_sample[i-1][j-1]\n",
    "    elif a == 8:\n",
    "        if i+1 >= d_row or j-1 < 0:\n",
    "            return 0\n",
    "        else:\n",
    "            return down_sample[i+1][j-1]\n",
    "        \n",
    "def h(i,j,p1,p2,p3):\n",
    "    v0 = down_sample[i][j]\n",
    "    v1 = get_val(i,j,p1)\n",
    "    v2 = get_val(i,j,p2)\n",
    "    v3 = get_val(i,j,p3)\n",
    "    #return q = 0 / r = 1 / s = 2\n",
    "    \n",
    "    if v0 != v1:\n",
    "        return 2\n",
    "    elif v0 == v2 and v0 == v3:\n",
    "        return 1\n",
    "    else:\n",
    "        return 0\n",
    "        \n",
    "def f(a,b,c,d):\n",
    "    if a==b and b==c and c==d and d == 1:\n",
    "        return 5\n",
    "    cnt = 0\n",
    "    if a == 0:\n",
    "        cnt+=1\n",
    "    if b == 0:\n",
    "        cnt+=1\n",
    "    if c == 0:\n",
    "        cnt+=1\n",
    "    if d == 0:\n",
    "        cnt+=1\n",
    "    return cnt\n",
    "\n",
    "def Yokoi():\n",
    "    for i in range (d_row):\n",
    "        for j in range (d_col):\n",
    "            if down_sample[i][j] == 0:\n",
    "                yokoi[i][j] = 0\n",
    "                continue\n",
    "            yokoi[i][j] = f(h(i,j,1,6,2),h(i,j,2,7,3),h(i,j,3,8,4),h(i,j,4,5,1))"
   ]
  },
  {
   "cell_type": "code",
   "execution_count": 122,
   "metadata": {},
   "outputs": [],
   "source": [
    "def h_4(i,j):\n",
    "    cnt=0\n",
    "    if i+1 < d_row:\n",
    "        if yokoi[i+1][j] == 1: \n",
    "            return 1\n",
    "    if i-1 >= 0:\n",
    "        if yokoi[i-1][j] == 1: \n",
    "            return 1\n",
    "    if j+1 < d_col:\n",
    "        if yokoi[i][j+1] == 1: \n",
    "            return 1\n",
    "    if j-1 >= 0:\n",
    "        if yokoi[i][j-1] == 1: \n",
    "            return 1\n",
    "    return 0\n",
    "\n",
    "def mark_thining():\n",
    "    # q=1, p=2, otherwise 0 \n",
    "    for i in range (d_row):\n",
    "        for j in range (d_col):\n",
    "            if yokoi[i][j] == 0:\n",
    "                mark[i][j] = 0\n",
    "            elif yokoi[i][j] == 1 and h_4(i,j) != 0:\n",
    "                mark[i][j] = 2\n",
    "            else:\n",
    "                mark[i][j] = 1\n",
    "        "
   ]
  },
  {
   "cell_type": "code",
   "execution_count": 123,
   "metadata": {},
   "outputs": [],
   "source": [
    "def h_thining(i,j,p1,p2,p3):\n",
    "    v0 = down_sample[i][j]\n",
    "    v1 = get_val(i,j,p1)\n",
    "    v2 = get_val(i,j,p2)\n",
    "    v3 = get_val(i,j,p3)\n",
    "    \n",
    "    if v0 == v1:\n",
    "        if v0!=v2 or v0 != v3:\n",
    "            return 1\n",
    "    return 0\n",
    "\n",
    "def f_thining(a,b,c,d,i,j):\n",
    "    if a+b+c+d == 1: \n",
    "        return 0\n",
    "    else:\n",
    "        return down_sample[i][j]"
   ]
  },
  {
   "cell_type": "code",
   "execution_count": 124,
   "metadata": {},
   "outputs": [],
   "source": [
    "yokoi = np.full((d_row,d_col),0)\n",
    "mark = np.full((d_row,d_col),0)\n",
    "thin = np.full((d_row,d_col),0)"
   ]
  },
  {
   "cell_type": "code",
   "execution_count": 125,
   "metadata": {},
   "outputs": [
    {
     "data": {
      "image/png": "[encoded data removed]",
      "text/plain": [
       "<Figure size 432x288 with 1 Axes>"
      ]
     },
     "metadata": {
      "needs_background": "light"
     },
     "output_type": "display_data"
    }
   ],
   "source": [
    "X = down_sample\n",
    "fig, ax = plt.subplots()\n",
    "ax.imshow(X, interpolation='nearest',cmap = 'gray')\n",
    "numrows, numcols = X.shape\n",
    "\n",
    "plt.show()"
   ]
  },
  {
   "cell_type": "code",
   "execution_count": 126,
   "metadata": {},
   "outputs": [],
   "source": [
    "for time in range(7):\n",
    "    Yokoi()\n",
    "    mark_thining()\n",
    "    for i in range (d_row):\n",
    "        for j in range (d_col):      \n",
    "            if mark[i][j] == 2:\n",
    "                down_sample[i][j] = f_thining(h_thining(i,j,1,6,2),h_thining(i,j,2,7,3),h_thining(i,j,3,8,4),h_thining(i,j,4,5,1),i,j)\n",
    "                "
   ]
  },
  {
   "cell_type": "code",
   "execution_count": 127,
   "metadata": {},
   "outputs": [
    {
     "data": {
      "image/png": "[encoded data removed]",
      "text/plain": [
       "<Figure size 432x288 with 1 Axes>"
      ]
     },
     "metadata": {
      "needs_background": "light"
     },
     "output_type": "display_data"
    }
   ],
   "source": [
    "X = down_sample\n",
    "fig, ax = plt.subplots()\n",
    "ax.imshow(X, interpolation='nearest',cmap = 'gray')\n",
    "numrows, numcols = X.shape\n",
    "\n",
    "plt.show()"
   ]
  },
  {
   "cell_type": "code",
   "execution_count": null,
   "metadata": {},
   "outputs": [],
   "source": []
  }
 ],
 "metadata": {
  "kernelspec": {
   "display_name": "Python 3",
   "language": "python",
   "name": "python3"
  },
  "language_info": {
   "codemirror_mode": {
    "name": "ipython",
    "version": 3
   },
   "file_extension": ".py",
   "mimetype": "text/x-python",
   "name": "python",
   "nbconvert_exporter": "python",
   "pygments_lexer": "ipython3",
   "version": "3.6.8"
  }
 },
 "nbformat": 4,
 "nbformat_minor": 2
}
